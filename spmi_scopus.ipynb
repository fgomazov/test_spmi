{
 "cells": [
  {
   "cell_type": "code",
   "execution_count": 1,
   "metadata": {},
   "outputs": [],
   "source": [
    "#1. Импортируем необходимые библиотеки\n",
    "import pandas as pd"
   ]
  },
  {
   "cell_type": "code",
   "execution_count": 2,
   "metadata": {},
   "outputs": [],
   "source": [
    "#2. Загрузка и предобработка датафрейма spmi из таблицы scopus.csv\n",
    "spmi  = pd.read_csv('/mnt/HC_Volume_18315164/home-jupyter/jupyter-f-gomazov/Pet/spmi/spmi_scopus.csv', encoding='windows-1251', sep=';')"
   ]
  },
  {
   "cell_type": "code",
   "execution_count": 3,
   "metadata": {},
   "outputs": [
    {
     "name": "stdout",
     "output_type": "stream",
     "text": [
      "Проверка на дублоикаты\n",
      "0\n",
      "Проверка на пропущенные значения\n",
      "authors               0\n",
      "IDs                   0\n",
      "title                 0\n",
      "source                0\n",
      "affiliation           0\n",
      "references            8\n",
      "year                  0\n",
      "citation_2020         0\n",
      "citation_2021         0\n",
      "citation_2022         0\n",
      "citation_2020_2022    0\n",
      "dtype: int64\n"
     ]
    }
   ],
   "source": [
    "#2.1 Обработка данных в ячейках\n",
    "#В датафрейме spmi удаляем ; в конце ячеек в столбце IDs, чтобы не было лишних строк при разделении\n",
    "spmi['IDs'] = spmi['IDs'].str.rstrip(';')\n",
    "#Проверяем на дубликаты и пропущенные значения\n",
    "print('Проверка на дублоикаты')\n",
    "print(spmi.duplicated().sum())\n",
    "print('Проверка на пропущенные значения')\n",
    "print(spmi.isnull().sum())\n",
    "#Заполнение пропущенных значений нулями\n",
    "spmi = spmi.fillna(0)"
   ]
  },
  {
   "cell_type": "code",
   "execution_count": 4,
   "metadata": {},
   "outputs": [
    {
     "name": "stdout",
     "output_type": "stream",
     "text": [
      "(6575, 11)\n",
      "(6575, 11)\n",
      "(6575, 11)\n"
     ]
    }
   ],
   "source": [
    "#2.2 Разделение столбцов authors IDs affiliation по разделителям и удаление пробелов в начале\n",
    "#Разделение столбца authors на отдельные имена авторов\n",
    "spmi_authors = spmi.assign(authors=spmi['authors'].str.split(',')).explode('authors')\n",
    "spmi_authors['authors'] = spmi_authors['authors'].str.strip()\n",
    "#Разделение столбца IDs на отдельные идентификаторы авторов\n",
    "spmi_ids = spmi.assign(IDs=spmi['IDs'].str.split(';')).explode('IDs')\n",
    "spmi_ids['IDs'] = spmi_ids['IDs'].str.strip()\n",
    "#Разделение столбца affiliation на отдельные идентификаторы авторов\n",
    "spmi_affiliation = spmi.assign(affiliation=spmi['affiliation'].str.split(';')).explode('affiliation')\n",
    "spmi_affiliation['affiliation'] = spmi_affiliation['affiliation'].str.strip()\n",
    "#Проверка количества строк авторов\n",
    "print(spmi_authors.shape)\n",
    "print(spmi_ids.shape)\n",
    "print(spmi_affiliation.shape)"
   ]
  },
  {
   "cell_type": "code",
   "execution_count": 5,
   "metadata": {
    "scrolled": true
   },
   "outputs": [],
   "source": [
    "#Для выяснения причин несовпадения - были скачаны три таблицы и проанализированы в Excel\n",
    "#spmi_authors.to_csv('spmi_authors.csv')\n",
    "#spmi_ids.to_csv('spmi_ids.csv')\n",
    "#spmi_affiliation.to_csv('spmi_affiliation.csv')\n",
    "#В данных таблицах было обнаружено расхождение одной статье  - \n",
    "#Problems of Applying Pb-Free Technology in Soldering Electronic Components\n",
    "#столбец affiliation разделенный по ; создал строку со следующий аффилиацией (без автора)\n",
    "#'Department of Electronic Systems, Saint Petersburg, Russian Federation'\n",
    "#Изменения были внесены в исходный файл spmi_scopus.csv, поскольку ошибка только для одной статьи и важно сохранить аффилиацию\n",
    "#Поскольку изменен исходный файл - перезапускаем ядро и проверяем, совпало ли количество значений (п.2.4)\n",
    "#Количество совпало - данный пункт перенесен в комментарии"
   ]
  },
  {
   "cell_type": "code",
   "execution_count": 6,
   "metadata": {
    "scrolled": false
   },
   "outputs": [
    {
     "data": {
      "text/plain": [
       "1"
      ]
     },
     "execution_count": 6,
     "metadata": {},
     "output_type": "execute_result"
    }
   ],
   "source": [
    "#2.3 Создание итоговой таблицы. \n",
    "#Преобразование столбца IDs в список идентификаторов\n",
    "spmi_authors['ID'] = spmi_ids['IDs'].apply(lambda x: x.strip()).tolist()\n",
    "#Преобразование столбца affiliation в список идентификаторов\n",
    "spmi_authors['aff'] = spmi_affiliation['affiliation'].apply(lambda x: x.strip()).tolist()\n",
    "#Удаление столбца с IDs и affiliation\n",
    "spmi_authors = spmi_authors.drop('IDs', axis=1)\n",
    "spmi_authors = spmi_authors.drop('affiliation', axis=1)\n",
    "#Перемещение столбца ID после столбца Authors \n",
    "id_col = spmi_authors.pop('ID')\n",
    "spmi_authors.insert(1, 'ID', id_col)\n",
    "#Перемещение столбца aff после столбца ID, ренейм столбца aff в affiliation, ренейм столбца authors в author\n",
    "id_column = spmi_authors.pop('aff')\n",
    "spmi_authors.insert(2, 'aff', id_column)\n",
    "spmi_authors = spmi_authors.rename(columns={'aff': 'affiliation'})\n",
    "spmi_authors = spmi_authors.rename(columns={'authors': 'author'})\n",
    "#Фильтрация таблицы по условию аффилиации с СПГУ - наличие слова Mining в аффилиации\n",
    "spmi_authors = spmi_authors[spmi_authors['affiliation'].str.contains('Mining')]\n",
    "scopus = spmi_authors.reset_index()\n",
    "#Фильтрация таблицы по условию аффилиации с СПГУ - наличие слова Petersburg в фильтрованной аффилиации (содержит Mining)  \n",
    "scopus_affiliation_spmi = scopus[scopus['affiliation'].str.contains('Petersburg')]\n",
    "scopus = scopus_affiliation_spmi\n",
    "#Проверка таблицы на дубликаты \n",
    "scopus.duplicated().sum()"
   ]
  },
  {
   "cell_type": "code",
   "execution_count": 7,
   "metadata": {},
   "outputs": [
    {
     "name": "stdout",
     "output_type": "stream",
     "text": [
      "1917\n",
      "1327\n"
     ]
    }
   ],
   "source": [
    "#2.4 Формирование таблицы scopus с данными сотрудников СПГУ \n",
    "#Удаление дубликатов\n",
    "scopus = scopus.drop_duplicates()\n",
    "#Удаление появившегося столбца индекс\n",
    "scopus = scopus.drop('index', axis=1)\n",
    "#Удаление столбца с аффилиациями, поскольку уже отсортированы только сотрудники СПГУ\n",
    "scopus = scopus.drop('affiliation', axis=1)\n",
    "#Определение количества уникальных авторов \n",
    "print(scopus.author.nunique())\n",
    "#Определение количества уникальных ID \n",
    "print(scopus.ID.nunique())"
   ]
  },
  {
   "cell_type": "code",
   "execution_count": 8,
   "metadata": {},
   "outputs": [],
   "source": [
    "#2.5 Определение количества уникальных авторов\n",
    "#Приведение фамилий авторов в столбце author к единому формату написания\n",
    "#Количество авторов больше количества уникальных ID, поскольку в столбце author разный формат написания ФИО\n",
    "#Необходимо привести фамилии в единый формат через соотнесение с уникальными ID, для этого\n",
    "#Создается таблица состоящая только из ID и Авторов \n",
    "Author_ID_only = scopus.drop(columns=['title', 'year', 'source', 'references',  'citation_2020', 'citation_2021', 'citation_2022', 'citation_2020_2022'])\n",
    "Author_ID_only = Author_ID_only.drop_duplicates(subset=['ID'])\n",
    "Author_ID_only['author'] = Author_ID_only['author'].str.strip()\n",
    "#Изменение таблицы scopus без фамилий авторов для объединения \n",
    "scopus = scopus.drop(columns=['author'])\n",
    "#Каждому ID присвоена фамилия автора в единственном формате написания из таблицы Author_ID_only\n",
    "scopus = pd.merge(scopus, Author_ID_only, how = 'outer',  on=['ID'])\n",
    "scopus.drop_duplicates().reset_index()\n",
    "#Перемещение столбца author после столбца ID \n",
    "id_column_1 = scopus.pop('author')\n",
    "scopus.insert(1, 'author', id_column_1)"
   ]
  },
  {
   "cell_type": "code",
   "execution_count": 9,
   "metadata": {
    "scrolled": false
   },
   "outputs": [
    {
     "name": "stdout",
     "output_type": "stream",
     "text": [
      "1322\n",
      "1327\n"
     ]
    }
   ],
   "source": [
    "#2.6 - Анализ количества уникальных авторов \n",
    "#формируем датафрейм final для тестового задания, оставляем только нужные столбцы - ID, авторы, цитаты по годам\n",
    "final = scopus.drop(columns=['title', 'year', 'source', 'references'])\n",
    "#Группируем по ID и автору, аггрегируя сумму цитирований для каждого автора\n",
    "final = final.groupby(['ID','author'], as_index = False)\\\n",
    "    .agg({'citation_2020': 'sum','citation_2021': 'sum','citation_2022': 'sum','citation_2020_2022': 'sum'})\n",
    "#Проверяем равенство уникальных авторов и уникальных ID \n",
    "print(final.author.nunique())\n",
    "print(final.ID.nunique())"
   ]
  },
  {
   "cell_type": "code",
   "execution_count": 10,
   "metadata": {
    "scrolled": true
   },
   "outputs": [
    {
     "data": {
      "text/html": [
       "<div>\n",
       "<style scoped>\n",
       "    .dataframe tbody tr th:only-of-type {\n",
       "        vertical-align: middle;\n",
       "    }\n",
       "\n",
       "    .dataframe tbody tr th {\n",
       "        vertical-align: top;\n",
       "    }\n",
       "\n",
       "    .dataframe thead th {\n",
       "        text-align: right;\n",
       "    }\n",
       "</style>\n",
       "<table border=\"1\" class=\"dataframe\">\n",
       "  <thead>\n",
       "    <tr style=\"text-align: right;\">\n",
       "      <th></th>\n",
       "      <th>author</th>\n",
       "      <th>ID</th>\n",
       "    </tr>\n",
       "  </thead>\n",
       "  <tbody>\n",
       "    <tr>\n",
       "      <th>179</th>\n",
       "      <td>Chernobay V.I.</td>\n",
       "      <td>2</td>\n",
       "    </tr>\n",
       "    <tr>\n",
       "      <th>406</th>\n",
       "      <td>Ivanov A.</td>\n",
       "      <td>2</td>\n",
       "    </tr>\n",
       "    <tr>\n",
       "      <th>598</th>\n",
       "      <td>Kuznetsova E.</td>\n",
       "      <td>2</td>\n",
       "    </tr>\n",
       "    <tr>\n",
       "      <th>606</th>\n",
       "      <td>Lavrik A.</td>\n",
       "      <td>2</td>\n",
       "    </tr>\n",
       "    <tr>\n",
       "      <th>1208</th>\n",
       "      <td>Vasiliev D.A.</td>\n",
       "      <td>2</td>\n",
       "    </tr>\n",
       "  </tbody>\n",
       "</table>\n",
       "</div>"
      ],
      "text/plain": [
       "              author  ID\n",
       "179   Chernobay V.I.   2\n",
       "406        Ivanov A.   2\n",
       "598    Kuznetsova E.   2\n",
       "606        Lavrik A.   2\n",
       "1208   Vasiliev D.A.   2"
      ]
     },
     "execution_count": 10,
     "metadata": {},
     "output_type": "execute_result"
    }
   ],
   "source": [
    "#2.7 Поиск уникальных авторов с несколькими ID - необходимо проверить являются они тезками, или это дубликаты и \n",
    "#внести изменения в таблицу scopus и датафрейм scopus, данное действие происходит в csv файле spmi через excel для анализа\n",
    "check = final.groupby(['author'], as_index = False)\\\n",
    "    .agg({'ID': 'count'})\n",
    "check.query('ID > 1')"
   ]
  },
  {
   "cell_type": "code",
   "execution_count": 11,
   "metadata": {},
   "outputs": [],
   "source": [
    "#2.8 Анализ пересечений авторов и ID - внесение изменений в датафрейм scopus\n",
    "#5 авторов соотносятся с 2 ID, ни один автор не соотносится с 3 и более ID, остальные авторы имеют 1 ID \n",
    "#Сохраняем csv файл #scopus.to_csv('scopus_p_2_15.csv') для анализа в Excel\n",
    "#При помощи фильтров в Excel - были отсортированы авторы по фамилии в файле scopus_p_2_15.csv и найдены следующие ошибки\n",
    "#1. Chernobay V.I.  - 58153589100  - выполняется переадресация на 57194587676, следовательно этот ID был заменен в таблице\n",
    "#   Chernobay V.I.  - 57194587676  - основной ID этого автора\n",
    "scopus.loc[scopus['ID'] == \"58153589100\", 'ID'] = \"57194587676\"\n",
    "#2. Ivanov A.     - 57674854600 - Ivanov A.S.       - совпадение из-за одинаковых иницалов - изменения внесены\n",
    "#   Ivanov A.     - 57194280216 - Ivanov A.V.       - совпадение из-за одинаковых иницалов - изменения внесены\n",
    "scopus.loc[scopus['ID'] == \"57674854600\", 'author'] = 'Ivanov A.S.'\n",
    "scopus.loc[scopus['ID'] == \"57194280216\", 'author'] = 'Ivanov A.V.'\n",
    "#3. Kuznetsova E. - 57366705000 - Kuznetsova E.A.   - совпадение из-за одинаковых иницалов - изменения внесены\n",
    "#   Kuznetsova E. - 57212385681 - Kuznetsova E.Y.   - совпадение из-за одинаковых иницалов - изменения внесены\n",
    "scopus.loc[scopus['ID'] == \"57366705000\", 'author'] = 'Kuznetsova E.A.'\n",
    "scopus.loc[scopus['ID'] == \"57212385681\", 'author'] = 'Kuznetsova E.Y.'\n",
    "#4. Lavrik A.     - 57201615009 - Lavrik A.Y.       - совпадение из-за одинаковых иницалов - изменения внесены  \n",
    "#   Lavrik A.     - 57573296300 - Lavrik Anna       - совпадение из-за одинаковых иницалов - изменения внесены\n",
    "scopus.loc[scopus['ID'] == \"57201615009\", 'author'] = 'Lavrik A.Y.'\n",
    "scopus.loc[scopus['ID'] == \"57573296300\", 'author'] = 'Lavrik Anna'\n",
    "#5. Vasiliev D.A.  - 57223084202 - аффилицация с СПГУ\n",
    "#   Vasiliev D.A.  - 55867855600 - аффилиация не с СПГУ, удален\n",
    "scopus = scopus.drop(scopus[scopus['ID'] == \"55867855600\"].index)\n",
    "#9. Tcvetkov P.   - 57222546007 - выполняется переадресация на 57191636882, следовательно этот ID был заменен в таблице\n",
    "#   Tcvetkov P.   - 57191636882 - основной ID этого автора\n",
    "scopus.loc[scopus['ID'] == \"57222546007\", 'ID'] = \"57191636882\"\n",
    "#Таким образом только одному автору принадлежали 2 ID, а прочие ID - уникальны и принадлежат людям со схожими инициалами,\n",
    "#Также обнаружен автор без аффилиации с горным университетом\n",
    "#В ходе этого пункта - формат фамилий брался из исходной таблицы задания scopus_citation_tracker\n",
    "#В исходной таблице scopus формат фамилий отличался, поэтому, были повторены предыдущие шаги\n",
    "#В результате чего - были обнаружены 10 авторов с 2 ID, 5 из которых указаны выше \n",
    "#Остальные 5 авторов (формат указания: фамилия в таблице scopus - ID - фамилия в таблице Scopus_Citation_Tracker )\n",
    "#1. Fedorov A.T.-7402999353-Fedorov A. и Fedorov A.T.-57210103208-Fedorov A.T. - одинаковые инициалы (scopus)\n",
    "#2. Mikhailov A.V.-57196260711-Mikhailov A. и  Mikhailov A.V.-57218597367-Mikhailov A.V. - одинаковые инициалы (scopus)\n",
    "#3. Vasilev B.Y.-55803115000-Vasilev B. и Vasilev B.Y.-58156604600-Vasilev B.Y. - одинаковые инициалы (scopus)\n",
    "#4. Vasilyeva M.A.-57117630800- Vasileva M. и Vasilyeva M.A.-57224741212-Vasilyeva M.A.- одинаковые инициалы (scopus)\n",
    "#5. Tcvetkov P.   - 57222546007 - выполняется переадресация на 57191636882  \n",
    "# 57191636882 - основной ID этого автора - в таблице Scopus_Citation_Tracker он указан как Tsvetkov P. \n",
    "#учитывая что правильное написание в профиле Scopus Tcvetkov P., то в итоговой таблице ID и фамилия были заменены\n",
    "scopus.loc[scopus['author'] == \"Tsvetkov P.\", 'author'] = 'Tcvetkov P.'\n",
    "scopus.loc[scopus['ID'] == \"57222546007\", 'ID'] = \"57191636882\""
   ]
  },
  {
   "cell_type": "code",
   "execution_count": 12,
   "metadata": {
    "scrolled": false
   },
   "outputs": [
    {
     "name": "stdout",
     "output_type": "stream",
     "text": [
      "1324\n",
      "1324\n"
     ]
    }
   ],
   "source": [
    "#2.9 Cоздание датафрейма final из измененного по результатам анализа датафрейма scopus \n",
    "final = scopus.drop(columns=['title', 'year', 'source', 'references'])\n",
    "final = final.groupby(['ID','author'], as_index = False)\\\n",
    "    .agg({'citation_2020': 'sum','citation_2021': 'sum','citation_2022': 'sum','citation_2020_2022': 'sum'})\n",
    "final['author'] = final['author'].apply(lambda x: x.strip())\n",
    "#Проверка равенства уникальных авторов и уникальных ID \n",
    "print(final.author.nunique())\n",
    "print(final.ID.nunique())"
   ]
  },
  {
   "cell_type": "code",
   "execution_count": 13,
   "metadata": {},
   "outputs": [],
   "source": [
    "#2 Вывод: Сформирован датафрейм final, состоящий из уникальных 1324 авторов с аффилиацией в СПГУ и их ID\n",
    "#Часть таблицы из первого задания (Автор, ID) заполнена\n",
    "#Данные по их статьям, содержатся в датафрейме scopus с привязкой к уникальным связкам авторов и ID"
   ]
  },
  {
   "cell_type": "code",
   "execution_count": 14,
   "metadata": {
    "scrolled": false
   },
   "outputs": [
    {
     "name": "stdout",
     "output_type": "stream",
     "text": [
      "ID                    0\n",
      "author                0\n",
      "citation_2020         0\n",
      "citation_2021         0\n",
      "citation_2022         0\n",
      "citation_2020_2022    0\n",
      "scopus_2020           0\n",
      "scopus_2021           0\n",
      "scopus_2022           0\n",
      "scopus_2020_2022      0\n",
      "dtype: int64\n"
     ]
    }
   ],
   "source": [
    "#3 - Добавление количества публикаций за 2020-2022 года по отдельности и вместе\n",
    "#3.1 Оценка количества публикаций за 2020 год\n",
    "#Фильтр для пункта №3 задания - количество публикаций в 2020 году \n",
    "filter_2020 = scopus['year'] == 2020\n",
    "#3.1 Группировка по автору и ID с подсчтеом количества публикаций за 2020 год \n",
    "publications_2020 = scopus[filter_2020].groupby(['ID', 'author'])['title'].count().reset_index()\n",
    "final = pd.merge(final, publications_2020[['ID', 'title']], on='ID', how='left')\n",
    "final = final.rename(columns = {'title': 'scopus_2020'})\n",
    "#3.1 Приведение данных по публикациям в scopus за 2020 год к формату int64 и заполнение отсутствующих значений, когда у автора\n",
    "#не было публикаций за 2020 год нулями\n",
    "final = final.astype({\"scopus_2020\": \"Int64\"})\n",
    "final = final.fillna(0)\n",
    "final = final.drop_duplicates(subset=['ID'])\n",
    "#3.2 Оценка количества публикаций за 2021 год\n",
    "#Фильтр для пункта №3 задания - количество публикаций в 2021 году \n",
    "filter_2021 = scopus['year'] == 2021\n",
    "#Группировка по автору и ID с подсчтеом количества публикаций за 2021 год \n",
    "publications_2021 = scopus[filter_2021].groupby(['ID', 'author'])['title'].count().reset_index()\n",
    "final = pd.merge(final, publications_2021[['ID', 'title']], on='ID', how='left')\n",
    "final = final.rename(columns = {'title': 'scopus_2021'})\n",
    "#Приведение данных по публикациям в scopus за 2021 год к формату int64 и заполнение отсутствующих значений, когда у автора\n",
    "#не было публикаций за 2021 год нулями\n",
    "final = final.astype({\"scopus_2021\": \"Int64\"})\n",
    "final = final.fillna(0)\n",
    "#3.3 Оценка количества публикаций за 2022 год\n",
    "#Фильтр для пункта №3 задания - количество публикаций в 2022 году \n",
    "filter_2022 = scopus['year'] == 2022\n",
    "#Группировка по автору и ID с подсчтеом количества публикаций за 2022 год \n",
    "publications_2022 = scopus[filter_2022].groupby(['ID', 'author'])['title'].count().reset_index()\n",
    "final = pd.merge(final, publications_2022[['ID', 'title']], on='ID', how='left')\n",
    "final = final.rename(columns = {'title': 'scopus_2022'})\n",
    "#Приведение данных по публикациям в scopus за 2021 год к формату int64 и заполнение отсутствующих значений, когда у автора\n",
    "#не было публикаций за 2021 год нулями\n",
    "final = final.astype({\"scopus_2022\": \"Int64\"})\n",
    "final = final.fillna(0)\n",
    "#3.4 Оценка количества публикаций за 2020-2022 год\n",
    "final['scopus_2020_2022'] = final[['scopus_2020', 'scopus_2021','scopus_2022']].sum(axis=1)\n",
    "#Приведение к Int64\n",
    "final = final.astype({\"scopus_2020_2022\": \"Int64\"})\n",
    "#Проверка на отсутствующие значения\n",
    "print(final.isnull().sum())"
   ]
  },
  {
   "cell_type": "code",
   "execution_count": 15,
   "metadata": {},
   "outputs": [],
   "source": [
    "#3 Вывод. Датафрейм final дополнен данными по количеству публикаций за 2022 год и суммарному количеству публикаций за 2020-2022"
   ]
  },
  {
   "cell_type": "code",
   "execution_count": 16,
   "metadata": {
    "scrolled": true
   },
   "outputs": [
    {
     "name": "stdout",
     "output_type": "stream",
     "text": [
      "Проверка на дубликаты\n",
      "41\n",
      "6\n",
      "3\n",
      "Проверка на пропущенные значения\n",
      "source           0\n",
      "type             0\n",
      "quartile_2020    0\n",
      "dtype: int64\n",
      "source           0\n",
      "type             0\n",
      "quartile_2021    0\n",
      "dtype: int64\n",
      "source           0\n",
      "type             0\n",
      "quartile_2022    0\n",
      "dtype: int64\n"
     ]
    }
   ],
   "source": [
    "#4.Добавление количества публикаций высокорейтинговых журнала Q1 и Q2 за 2020-2022 года по отдельности и вместе\n",
    "#4.1 Cоздание датафрейма sjr по источникам и их квартилям\n",
    "#Импорт данных из файлов базы SJR по годам и проверка на дубликаты и пропущенные значения\n",
    "sjr_2020 = pd.read_csv('/mnt/HC_Volume_18315164/home-jupyter/jupyter-f-gomazov/Pet/spmi_scopus/scimagojr_2020.csv', encoding='windows-1251', sep=';')\n",
    "sjr_2021 = pd.read_csv('/mnt/HC_Volume_18315164/home-jupyter/jupyter-f-gomazov/Pet/spmi_scopus/scimagojr_2021.csv', encoding='windows-1251', sep=';')\n",
    "sjr_2022 = pd.read_csv('/mnt/HC_Volume_18315164/home-jupyter/jupyter-f-gomazov/Pet/spmi_scopus/scimagojr_2022.csv', encoding='windows-1251', sep=';')\n",
    "#Проверка данных на дубликаты\n",
    "print('Проверка на дубликаты')\n",
    "print(sjr_2020.duplicated().sum())\n",
    "print(sjr_2021.duplicated().sum())\n",
    "print(sjr_2022.duplicated().sum())\n",
    "#Удаление дубликатов\n",
    "sjr_2020 = sjr_2020.drop_duplicates()\n",
    "sjr_2021 = sjr_2021.drop_duplicates()\n",
    "sjr_2022 = sjr_2022.drop_duplicates()\n",
    "#Проверка данных на пропущенные значения\n",
    "print('Проверка на пропущенные значения')\n",
    "print(sjr_2020.isnull().sum())\n",
    "print(sjr_2021.isnull().sum())\n",
    "print(sjr_2022.isnull().sum())\n",
    "#Внешнее объединение таблиц с SJR по годам, поскольку нужны данные обо всех источниках - получаем датафрейм sjr\n",
    "sjr_20_21 = pd.merge(sjr_2020, sjr_2021, how = 'outer',  on=['source', 'type'])\n",
    "sjr = pd.merge(sjr_20_21, sjr_2022, how = 'outer',  on=['source', 'type'])"
   ]
  },
  {
   "cell_type": "code",
   "execution_count": 17,
   "metadata": {
    "scrolled": true
   },
   "outputs": [
    {
     "name": "stdout",
     "output_type": "stream",
     "text": [
      "Проверка на дубликаты\n",
      "0\n",
      "Проверка на пропущенные значения\n",
      "ID                      0\n",
      "author                  0\n",
      "title                   0\n",
      "source                  0\n",
      "references              0\n",
      "year                    0\n",
      "citation_2020           0\n",
      "citation_2021           0\n",
      "citation_2022           0\n",
      "citation_2020_2022      0\n",
      "type                  828\n",
      "quartile_2020         859\n",
      "quartile_2021         845\n",
      "quartile_2022         839\n",
      "dtype: int64\n",
      "Проверка на количество строк\n",
      "(4354, 10)\n",
      "(4361, 14)\n",
      "Проверка на типы значений квартилей\n",
      "['Q2' 'Q1' 'Q3' 0 '-' 'Q4']\n",
      "['Q1' 'Q2' 'Q3' 0 '-' 'Q4']\n",
      "['Q1' 'Q2' 'Q3' 0 '-' 'Q4']\n"
     ]
    }
   ],
   "source": [
    "#4.2 Создание и анализ датафрейма scopus_sjr с публикациями сотрудников СПГУ и квартилями журналов \n",
    "# left join, поскольку, например, часть журналов перестала индексироваться в скопус, \n",
    "#а материалы конференций могут не иметь квартиля\n",
    "scopus_sjr = pd.merge(scopus, sjr, how = 'left', on = ['source'])\n",
    "# проверка дублиткатов в таблице \n",
    "print('Проверка на дубликаты')\n",
    "print(scopus_sjr.duplicated().sum())\n",
    "# проверка пропущенных значения\n",
    "print('Проверка на пропущенные значения')\n",
    "print(scopus_sjr.isnull().sum())\n",
    "#заполнение пропущенных значений нулями\n",
    "scopus_sjr = scopus_sjr.fillna(0)\n",
    "#Сравнение по количеству строк датафрейма scopus с датафреймом scopus_sjr\n",
    "print('Проверка на количество строк')\n",
    "print(scopus.shape)\n",
    "print(scopus_sjr.shape)\n",
    "#В датафрейме scopus - 4354 строки, в датафрейме scopus_sjr - 4361 строка - при объединении появились новые строки\n",
    "#Файлы скачаны для анализа в Excel и построчно через ЕСЛИ сравнены названия журналов \n",
    "#Было выявлено дублирование, из-за названия журнала в файлах базы SJR - журнал Social Sciences \n",
    "#в работе Автора Kornilova E.V. - данное дублирование не обнаруживалось через .duplicated \n",
    "#Проверка типов значений в столбцах квартилей по годам\n",
    "print('Проверка на типы значений квартилей')\n",
    "print(scopus_sjr.quartile_2020.unique())\n",
    "print(scopus_sjr.quartile_2021.unique())\n",
    "print(scopus_sjr.quartile_2022.unique())"
   ]
  },
  {
   "cell_type": "code",
   "execution_count": 18,
   "metadata": {},
   "outputs": [
    {
     "name": "stdout",
     "output_type": "stream",
     "text": [
      "Проверка на количество строк\n",
      "(4354, 11)\n",
      "(4354, 15)\n"
     ]
    }
   ],
   "source": [
    "#4.3 Исправление данных датафрейма scopus_sjr\n",
    "#Замена значений '-' на 0\n",
    "scopus_sjr['quartile_2020'] = scopus_sjr['quartile_2020'].replace('-', 0)\n",
    "scopus_sjr['quartile_2021'] = scopus_sjr['quartile_2021'].replace('-', 0)\n",
    "scopus_sjr['quartile_2022'] = scopus_sjr['quartile_2022'].replace('-', 0)\n",
    "#Исключение дублирования с журналом Social Sciences\n",
    "mask = (scopus_sjr['source'] == 'Social Sciences')\n",
    "#Заменяем данные строки на Q2(так как журнал в 2020-2022 находился в Q2) и убираем дубликаты, сбрасывая индекс\n",
    "scopus_sjr.loc[mask, ['quartile_2020', 'quartile_2021', 'quartile_2022']] = 'Q2'\n",
    "scopus_sjr = scopus_sjr.drop_duplicates().reset_index()\n",
    "scopus = scopus.drop_duplicates().reset_index()\n",
    "print('Проверка на количество строк')\n",
    "print(scopus.shape)\n",
    "print(scopus_sjr.shape)"
   ]
  },
  {
   "cell_type": "code",
   "execution_count": 19,
   "metadata": {
    "scrolled": true
   },
   "outputs": [],
   "source": [
    "#4.4 Изменение данных в датафрейме scopus_sjr\n",
    "#Добавлен столбец quartile в котором находится квартиль по году написания статьи - по уточнению из email\n",
    "scopus_sjr['quartile'] = scopus_sjr.apply(lambda row: row[f'quartile_{row.year}'], axis=1)\n",
    "#Удалены колонки с квартилями по годам из файла с источниками \n",
    "scopus_sjr = scopus_sjr.drop('quartile_2020', axis=1)\n",
    "scopus_sjr = scopus_sjr.drop('quartile_2021', axis=1)\n",
    "scopus_sjr = scopus_sjr.drop('quartile_2022', axis=1)"
   ]
  },
  {
   "cell_type": "code",
   "execution_count": 20,
   "metadata": {},
   "outputs": [],
   "source": [
    "#4.5 Дополнение таблицы final данными по квартилям\n",
    "#Группируем исходный датафрейм по ID и author, считаем количество публикаций в каждой категории\n",
    "grouped = scopus_sjr.groupby(['ID', 'author', 'year', 'quartile']).size().reset_index(name='count')\n",
    "#Cоздаем отдельные столбцы для каждого года и категории\n",
    "grouped['quartile12_2020'] = grouped.apply(lambda row: 1 if row['year'] == 2020 and row['quartile'] in ['Q1', 'Q2'] else 0, axis=1)\n",
    "grouped['quartile12_2021'] = grouped.apply(lambda row: 1 if row['year'] == 2021 and row['quartile'] in ['Q1', 'Q2'] else 0, axis=1)\n",
    "grouped['quartile12_2022'] = grouped.apply(lambda row: 1 if row['year'] == 2022 and row['quartile'] in ['Q1', 'Q2'] else 0, axis=1)\n",
    "#Группируем по ID и author, суммируем количество публикаций в каждой категории и каждом году\n",
    "grouped = grouped.groupby(['ID', 'author']).agg({'quartile12_2020': 'sum', 'quartile12_2021': 'sum', 'quartile12_2022': 'sum', 'count': 'sum'}).reset_index()\n",
    "#Создаем столбец quartile12, который принимает значение 1, если хотя бы один из столбцов quartile12_2020, quartile12_2021, quartile12_2022 равен 1, иначе 0\n",
    "grouped['quartile12_2020_2022'] = grouped[['quartile12_2020','quartile12_2021','quartile12_2022']].sum(axis=1)\n",
    "#Объединение датафрейма final с группированным датафреймом grouped по ID и author\n",
    "final['ID'] = final['ID'].astype('object')\n",
    "grouped['ID'] = grouped['ID'].astype('object')\n",
    "final['author'] = final['author'].str.strip()\n",
    "grouped['author'] = grouped['author'].str.strip()\n",
    "result = final.merge(grouped[['ID', 'author', 'quartile12_2020', 'quartile12_2021', 'quartile12_2022', 'quartile12_2020_2022']], on=['ID', 'author'], how='left')\n",
    "#Заполнение нулями отсутствующих значений\n",
    "result[['quartile12_2020', 'quartile12_2021', 'quartile12_2022', 'quartile12_2020_2022']] = result[['quartile12_2020', 'quartile12_2021', 'quartile12_2022', 'quartile12_2020_2022']].fillna(0).astype('int')\n",
    "#Перезапись датафрейм final для тестового задания\n",
    "final = result"
   ]
  },
  {
   "cell_type": "code",
   "execution_count": 21,
   "metadata": {},
   "outputs": [],
   "source": [
    "#4.6 Вывод - сформирована таблица final с данными для тестового задания, за исключением упоминания фамилий авторов \n",
    "#Babyr и Tcvetkov"
   ]
  },
  {
   "cell_type": "code",
   "execution_count": 22,
   "metadata": {},
   "outputs": [],
   "source": [
    "#5. Добавление количества упоминаний авторов Babyr и Tcvetkov сотрудниками СПГУ\n",
    "#Количество упоминаний авторов Babyr и Tcvetkov в каждой статье из столбца пристатейных ссылок\n",
    "#Учитывая, что есть два автора с фамилией Babyr, и, возможно, более одного автора с фамилией Tcvetkov, то было принято решение\n",
    "#Найти количество упоминаний начальника управления по публикационной деятельности - Цветкова П.С.\n",
    "#Найти сколько раз упоминался начальник отдела наукометрического анализа - Бабырь Н.В."
   ]
  },
  {
   "cell_type": "code",
   "execution_count": 23,
   "metadata": {},
   "outputs": [],
   "source": [
    "#5.1 Создание столбцов в датафрейме scopus\n",
    "#mention_Tcvetkov - сколько раз упомянут Цветков П.С. - в формуле использовано формат фамилии APA\n",
    "def count_mention_1(row):\n",
    "    if isinstance(row['references'], str):\n",
    "        return row['references'].count('Tcvetkov, P')\n",
    "    else:\n",
    "        return 0\n",
    "scopus['mention_Tcvetkov'] = scopus.apply(count_mention_1, axis=1)\n",
    "#mention_Babyr - сколько раз упомянут Бабырь Н.В. - в формуле использовано формат фамилии APA\n",
    "def count_mention(row):\n",
    "    if isinstance(row['references'], str):\n",
    "        return row['references'].count('Babyr, N.')\n",
    "    else:\n",
    "        return 0\n",
    "scopus['mention_Babyr'] = scopus.apply(count_mention, axis=1)"
   ]
  },
  {
   "cell_type": "code",
   "execution_count": 24,
   "metadata": {},
   "outputs": [],
   "source": [
    "#5.2 Дополнение таблицы final данными об упоминаниях\n",
    "#Создание датафрейма scopus_mention с количеством упоминаний для объединения\n",
    "scopus_mention = scopus\n",
    "#Подготовка датафрейма к объединению с final - удаление лишних столбцов, удаление дубликатов, подсчет суммы упоминаний\n",
    "scopus_mention = scopus_mention.drop(columns = ['title','year', 'source', 'references','citation_2021', 'citation_2022'])\n",
    "scopus_mention = scopus_mention.groupby(['ID', 'author']).agg({'mention_Tcvetkov': 'sum', 'mention_Babyr': 'sum'}).reset_index()\n",
    "scopus_mention = scopus_mention.drop_duplicates()\n",
    "#Объединение таблицы final и scopus_mention\n",
    "final = pd.merge(final, scopus_mention, how = 'left',  on=['ID', 'author'])\n",
    "final[['mention_Tcvetkov', 'mention_Babyr']] = final[['mention_Tcvetkov', 'mention_Babyr']].fillna(0).astype('int')\n",
    "final = final.rename(columns={'ID': 'Идентификатор Scopus', 'author': 'Автор', 'citation_2020': 'Цитирований за 2020', 'citation_2021': 'Цитирований за 2021', 'citation_2022': 'Цитирований за 2022','citation_2020_2022': 'Цитирований за 2020 - 2022', 'scopus_2020': 'Публикаций Scopus за 2020', 'scopus_2021': 'Публикаций Scopus за 2021', 'scopus_2022': 'Публикаций Scopus за 2022', 'scopus_2020_2022': 'Публикаций Scopus за 2020-2022', 'quartile12_2020': 'Высокорейтинговых публикаций за 2020', 'quartile12_2021': 'Высокорейтинговых публикаций за 2021', 'quartile12_2022': 'Высокорейтинговых публикаций за 2022', 'quartile12_2020_2022': 'Высокорейтинговых публикаций за 2020-2022', 'mention_Tcvetkov': 'Цветков П.С. был процитирован','mention_Babyr': 'Бабырь Н.В. был процитирован'})\n",
    "final = final[['Идентификатор Scopus', 'Автор', 'Публикаций Scopus за 2020', 'Высокорейтинговых публикаций за 2020', 'Цитирований за 2020', 'Публикаций Scopus за 2021', 'Высокорейтинговых публикаций за 2021', 'Цитирований за 2021', 'Публикаций Scopus за 2022', 'Высокорейтинговых публикаций за 2022', 'Цитирований за 2022', 'Публикаций Scopus за 2020-2022', 'Высокорейтинговых публикаций за 2020-2022', 'Цитирований за 2020 - 2022', 'Цветков П.С. был процитирован','Бабырь Н.В. был процитирован']]"
   ]
  },
  {
   "cell_type": "code",
   "execution_count": 25,
   "metadata": {},
   "outputs": [
    {
     "data": {
      "text/html": [
       "<div>\n",
       "<style scoped>\n",
       "    .dataframe tbody tr th:only-of-type {\n",
       "        vertical-align: middle;\n",
       "    }\n",
       "\n",
       "    .dataframe tbody tr th {\n",
       "        vertical-align: top;\n",
       "    }\n",
       "\n",
       "    .dataframe thead th {\n",
       "        text-align: right;\n",
       "    }\n",
       "</style>\n",
       "<table border=\"1\" class=\"dataframe\">\n",
       "  <thead>\n",
       "    <tr style=\"text-align: right;\">\n",
       "      <th></th>\n",
       "      <th>Идентификатор Scopus</th>\n",
       "      <th>Автор</th>\n",
       "      <th>Публикаций Scopus за 2020</th>\n",
       "      <th>Высокорейтинговых публикаций за 2020</th>\n",
       "      <th>Цитирований за 2020</th>\n",
       "      <th>Публикаций Scopus за 2021</th>\n",
       "      <th>Высокорейтинговых публикаций за 2021</th>\n",
       "      <th>Цитирований за 2021</th>\n",
       "      <th>Публикаций Scopus за 2022</th>\n",
       "      <th>Высокорейтинговых публикаций за 2022</th>\n",
       "      <th>Цитирований за 2022</th>\n",
       "      <th>Публикаций Scopus за 2020-2022</th>\n",
       "      <th>Высокорейтинговых публикаций за 2020-2022</th>\n",
       "      <th>Цитирований за 2020 - 2022</th>\n",
       "      <th>Цветков П.С. был процитирован</th>\n",
       "      <th>Бабырь Н.В. был процитирован</th>\n",
       "    </tr>\n",
       "  </thead>\n",
       "  <tbody>\n",
       "    <tr>\n",
       "      <th>0</th>\n",
       "      <td>10041199100</td>\n",
       "      <td>Syrkov A.G.</td>\n",
       "      <td>1</td>\n",
       "      <td>0</td>\n",
       "      <td>0</td>\n",
       "      <td>4</td>\n",
       "      <td>2</td>\n",
       "      <td>0</td>\n",
       "      <td>3</td>\n",
       "      <td>1</td>\n",
       "      <td>8</td>\n",
       "      <td>8</td>\n",
       "      <td>3</td>\n",
       "      <td>8</td>\n",
       "      <td>0</td>\n",
       "      <td>0</td>\n",
       "    </tr>\n",
       "    <tr>\n",
       "      <th>1</th>\n",
       "      <td>10041544900</td>\n",
       "      <td>Sultanbekov R.</td>\n",
       "      <td>3</td>\n",
       "      <td>0</td>\n",
       "      <td>3</td>\n",
       "      <td>3</td>\n",
       "      <td>2</td>\n",
       "      <td>13</td>\n",
       "      <td>2</td>\n",
       "      <td>2</td>\n",
       "      <td>48</td>\n",
       "      <td>8</td>\n",
       "      <td>4</td>\n",
       "      <td>64</td>\n",
       "      <td>2</td>\n",
       "      <td>0</td>\n",
       "    </tr>\n",
       "    <tr>\n",
       "      <th>2</th>\n",
       "      <td>10042352300</td>\n",
       "      <td>Kozlov A.V.</td>\n",
       "      <td>2</td>\n",
       "      <td>1</td>\n",
       "      <td>0</td>\n",
       "      <td>2</td>\n",
       "      <td>0</td>\n",
       "      <td>2</td>\n",
       "      <td>0</td>\n",
       "      <td>0</td>\n",
       "      <td>6</td>\n",
       "      <td>4</td>\n",
       "      <td>1</td>\n",
       "      <td>8</td>\n",
       "      <td>0</td>\n",
       "      <td>0</td>\n",
       "    </tr>\n",
       "    <tr>\n",
       "      <th>3</th>\n",
       "      <td>10046574700</td>\n",
       "      <td>Utkov V.A.</td>\n",
       "      <td>1</td>\n",
       "      <td>0</td>\n",
       "      <td>0</td>\n",
       "      <td>0</td>\n",
       "      <td>0</td>\n",
       "      <td>0</td>\n",
       "      <td>0</td>\n",
       "      <td>0</td>\n",
       "      <td>0</td>\n",
       "      <td>1</td>\n",
       "      <td>0</td>\n",
       "      <td>0</td>\n",
       "      <td>0</td>\n",
       "      <td>0</td>\n",
       "    </tr>\n",
       "    <tr>\n",
       "      <th>4</th>\n",
       "      <td>12767015100</td>\n",
       "      <td>Talovina I.V.</td>\n",
       "      <td>5</td>\n",
       "      <td>1</td>\n",
       "      <td>7</td>\n",
       "      <td>5</td>\n",
       "      <td>1</td>\n",
       "      <td>14</td>\n",
       "      <td>2</td>\n",
       "      <td>1</td>\n",
       "      <td>10</td>\n",
       "      <td>12</td>\n",
       "      <td>3</td>\n",
       "      <td>31</td>\n",
       "      <td>0</td>\n",
       "      <td>0</td>\n",
       "    </tr>\n",
       "  </tbody>\n",
       "</table>\n",
       "</div>"
      ],
      "text/plain": [
       "  Идентификатор Scopus           Автор  Публикаций Scopus за 2020  \\\n",
       "0          10041199100     Syrkov A.G.                          1   \n",
       "1          10041544900  Sultanbekov R.                          3   \n",
       "2          10042352300     Kozlov A.V.                          2   \n",
       "3          10046574700      Utkov V.A.                          1   \n",
       "4          12767015100   Talovina I.V.                          5   \n",
       "\n",
       "   Высокорейтинговых публикаций за 2020  Цитирований за 2020  \\\n",
       "0                                     0                    0   \n",
       "1                                     0                    3   \n",
       "2                                     1                    0   \n",
       "3                                     0                    0   \n",
       "4                                     1                    7   \n",
       "\n",
       "   Публикаций Scopus за 2021  Высокорейтинговых публикаций за 2021  \\\n",
       "0                          4                                     2   \n",
       "1                          3                                     2   \n",
       "2                          2                                     0   \n",
       "3                          0                                     0   \n",
       "4                          5                                     1   \n",
       "\n",
       "   Цитирований за 2021  Публикаций Scopus за 2022  \\\n",
       "0                    0                          3   \n",
       "1                   13                          2   \n",
       "2                    2                          0   \n",
       "3                    0                          0   \n",
       "4                   14                          2   \n",
       "\n",
       "   Высокорейтинговых публикаций за 2022  Цитирований за 2022  \\\n",
       "0                                     1                    8   \n",
       "1                                     2                   48   \n",
       "2                                     0                    6   \n",
       "3                                     0                    0   \n",
       "4                                     1                   10   \n",
       "\n",
       "   Публикаций Scopus за 2020-2022  Высокорейтинговых публикаций за 2020-2022  \\\n",
       "0                               8                                          3   \n",
       "1                               8                                          4   \n",
       "2                               4                                          1   \n",
       "3                               1                                          0   \n",
       "4                              12                                          3   \n",
       "\n",
       "   Цитирований за 2020 - 2022  Цветков П.С. был процитирован  \\\n",
       "0                           8                              0   \n",
       "1                          64                              2   \n",
       "2                           8                              0   \n",
       "3                           0                              0   \n",
       "4                          31                              0   \n",
       "\n",
       "   Бабырь Н.В. был процитирован  \n",
       "0                             0  \n",
       "1                             0  \n",
       "2                             0  \n",
       "3                             0  \n",
       "4                             0  "
      ]
     },
     "execution_count": 25,
     "metadata": {},
     "output_type": "execute_result"
    }
   ],
   "source": [
    "#5.5 Выгрузка финальной таблицы для анализа\n",
    "final.to_csv('final.csv')\n",
    "final.head()"
   ]
  },
  {
   "cell_type": "code",
   "execution_count": 26,
   "metadata": {
    "scrolled": true
   },
   "outputs": [],
   "source": [
    "#6 Выгрузка таблицы для первого тестового задания\n",
    "test_1 = final.drop(columns = ['Публикаций Scopus за 2020','Публикаций Scopus за 2021', 'Цитирований за 2020', 'Цитирований за 2021','Цитирований за 2022', 'Цитирований за 2020 - 2022', 'Высокорейтинговых публикаций за 2020', 'Высокорейтинговых публикаций за 2021', 'Высокорейтинговых публикаций за 2022'])\n",
    "test_1['Цитирований за 2021 - 2022'] = final['Цитирований за 2021'] + final['Цитирований за 2022']\n",
    "test_1 = test_1[['Автор', 'Идентификатор Scopus',  'Публикаций Scopus за 2022', 'Публикаций Scopus за 2020-2022', 'Высокорейтинговых публикаций за 2020-2022', 'Цитирований за 2021 - 2022', 'Бабырь Н.В. был процитирован', 'Цветков П.С. был процитирован']]\n",
    "test_1.head()\n",
    "test_1.to_csv('test_1.csv')"
   ]
  }
 ],
 "metadata": {
  "kernelspec": {
   "display_name": "Python 3",
   "language": "python",
   "name": "python3"
  },
  "language_info": {
   "codemirror_mode": {
    "name": "ipython",
    "version": 3
   },
   "file_extension": ".py",
   "mimetype": "text/x-python",
   "name": "python",
   "nbconvert_exporter": "python",
   "pygments_lexer": "ipython3",
   "version": "3.7.3"
  }
 },
 "nbformat": 4,
 "nbformat_minor": 4
}
